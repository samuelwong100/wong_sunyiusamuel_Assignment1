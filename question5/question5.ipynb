{
 "cells": [
  {
   "cell_type": "markdown",
   "metadata": {},
   "source": [
    "Define the original function"
   ]
  },
  {
   "cell_type": "code",
   "execution_count": 1,
   "metadata": {},
   "outputs": [],
   "source": [
    "def f(x):\n",
    "   return x*(x-1)"
   ]
  },
  {
   "cell_type": "markdown",
   "metadata": {},
   "source": [
    "Define its difference quotient"
   ]
  },
  {
   "cell_type": "code",
   "execution_count": 3,
   "metadata": {},
   "outputs": [],
   "source": [
    "def df(x, delta):\n",
    "    return (f(x+delta) - f(x))/delta"
   ]
  },
  {
   "cell_type": "markdown",
   "metadata": {},
   "source": [
    "Try it for a log range of delta"
   ]
  },
  {
   "cell_type": "code",
   "execution_count": 10,
   "metadata": {},
   "outputs": [
    {
     "name": "stdout",
     "output_type": "stream",
     "text": [
      "when delta = 0.0001, derivative = 1.0000999999998899\n",
      "when delta = 1e-05, derivative = 1.0000100000065513\n",
      "when delta = 1e-06, derivative = 1.0000009999177333\n",
      "when delta = 1e-07, derivative = 1.0000001005838672\n",
      "when delta = 1e-08, derivative = 1.0000000039225287\n",
      "when delta = 1e-09, derivative = 1.000000083740371\n",
      "when delta = 1e-10, derivative = 1.000000082840371\n",
      "when delta = 1e-11, derivative = 1.000000082750371\n",
      "when delta = 1e-12, derivative = 1.0000889005833413\n",
      "when delta = 1e-13, derivative = 0.9992007221627407\n",
      "when delta = 1e-14, derivative = 0.9992007221626509\n"
     ]
    }
   ],
   "source": [
    "import numpy as np\n",
    "x = 1\n",
    "for i in range(4,15):\n",
    "    print('when delta = {}, derivative = {}'.format(10**(-i),df(x,10**(-i))))\n",
    "    "
   ]
  },
  {
   "cell_type": "code",
   "execution_count": null,
   "metadata": {},
   "outputs": [],
   "source": []
  },
  {
   "cell_type": "code",
   "execution_count": null,
   "metadata": {},
   "outputs": [],
   "source": []
  }
 ],
 "metadata": {
  "kernelspec": {
   "display_name": "Python 3",
   "language": "python",
   "name": "python3"
  },
  "language_info": {
   "codemirror_mode": {
    "name": "ipython",
    "version": 3
   },
   "file_extension": ".py",
   "mimetype": "text/x-python",
   "name": "python",
   "nbconvert_exporter": "python",
   "pygments_lexer": "ipython3",
   "version": "3.6.4"
  }
 },
 "nbformat": 4,
 "nbformat_minor": 2
}
