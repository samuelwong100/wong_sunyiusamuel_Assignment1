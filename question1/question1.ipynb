{
 "cells": [
  {
   "cell_type": "code",
   "execution_count": 46,
   "metadata": {},
   "outputs": [],
   "source": [
    "import numpy as np"
   ]
  },
  {
   "cell_type": "markdown",
   "metadata": {},
   "source": [
    "Get user input of find and replace"
   ]
  },
  {
   "cell_type": "code",
   "execution_count": 47,
   "metadata": {},
   "outputs": [
    {
     "name": "stdout",
     "output_type": "stream",
     "text": [
      "find: ran\n",
      "replace: run\n"
     ]
    }
   ],
   "source": [
    "find = input(\"find: \")\n",
    "replace = input(\"replace: \")"
   ]
  },
  {
   "cell_type": "code",
   "execution_count": 50,
   "metadata": {},
   "outputs": [
    {
     "name": "stdout",
     "output_type": "stream",
     "text": [
      "[['I', 'run', 'away\\n'], ['he', 'run', 'away\\n'], ['she', 'run', 'away\\n'], ['we', 'run', 'away\\n'], ['we', 'fell', 'down']]\n"
     ]
    }
   ],
   "source": [
    "import os\n",
    "\n",
    "def open_txt(file):\n",
    "    if file.endswith(\".txt\"):\n",
    "        f=open(file, 'r')\n",
    "        words_in_line = split_into_words(f)\n",
    "        words_in_line = find_and_replace(words_in_line)\n",
    "        print(words_in_line)\n",
    "    \n",
    "def split_into_words(f):\n",
    "    result = []\n",
    "    for line in f:\n",
    "        words_in_line = line.split(\" \")\n",
    "        result.append(words_in_line)\n",
    "    return result\n",
    "    \n",
    "def find_and_replace(words_in_line):\n",
    "    for i in range(len(words_in_line)):\n",
    "        for j in range(len(words_in_line[i])):\n",
    "            if words_in_line[i][j] == find:\n",
    "                words_in_line[i][j] = replace\n",
    "    return words_in_line\n",
    "\n",
    "for root,dirs,files in os.walk(os.getcwd()):\n",
    "    for file in files:\n",
    "        f = open_txt(file)\n"
   ]
  },
  {
   "cell_type": "code",
   "execution_count": null,
   "metadata": {},
   "outputs": [],
   "source": []
  },
  {
   "cell_type": "code",
   "execution_count": null,
   "metadata": {},
   "outputs": [],
   "source": []
  }
 ],
 "metadata": {
  "kernelspec": {
   "display_name": "Python 3",
   "language": "python",
   "name": "python3"
  },
  "language_info": {
   "codemirror_mode": {
    "name": "ipython",
    "version": 3
   },
   "file_extension": ".py",
   "mimetype": "text/x-python",
   "name": "python",
   "nbconvert_exporter": "python",
   "pygments_lexer": "ipython3",
   "version": "3.6.4"
  }
 },
 "nbformat": 4,
 "nbformat_minor": 2
}
