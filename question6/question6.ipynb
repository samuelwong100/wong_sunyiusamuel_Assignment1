{
 "cells": [
  {
   "cell_type": "markdown",
   "metadata": {},
   "source": [
    "Define standard ship class"
   ]
  },
  {
   "cell_type": "code",
   "execution_count": 11,
   "metadata": {},
   "outputs": [],
   "source": [
    "class Ship:\n",
    "    \n",
    "    def __init__(self, name, shield, hull, laser):\n",
    "        self.name = name\n",
    "        self.shield = shield\n",
    "        self.hull = hull\n",
    "        self.laser = laser\n",
    "        self.alive = True\n",
    "    \n",
    "    def getName(self):\n",
    "        return self.name\n",
    "    \n",
    "    def getShield(self):\n",
    "        return self.shield\n",
    "    \n",
    "    def getHull(self):\n",
    "        return self.hull\n",
    "    \n",
    "    def getLaser(self):\n",
    "        return self.laser\n",
    "            \n",
    "    def shoot(self, target):\n",
    "        blast = self.getLaser()\n",
    "        target.shotAt(blast)\n",
    "        \n",
    "    def shotAt(blast):\n",
    "        if self.getShield()>0:\n",
    "            self.damageShield(blast)\n",
    "        else:\n",
    "            self.damageHull(blast)\n",
    "            \n",
    "    def damageShield(self, damage):\n",
    "        if self.getShield() - damage > 0:\n",
    "            self.shield = self.getShield() - damage\n",
    "        else:\n",
    "            left_over = damage - self.getShield()\n",
    "            self.shield = 0\n",
    "            self.damageHull(left_over)"
   ]
  },
  {
   "cell_type": "code",
   "execution_count": 12,
   "metadata": {},
   "outputs": [],
   "source": [
    "a = Ship('sam', 10,10,10)"
   ]
  },
  {
   "cell_type": "code",
   "execution_count": 14,
   "metadata": {},
   "outputs": [
    {
     "data": {
      "text/plain": [
       "10"
      ]
     },
     "execution_count": 14,
     "metadata": {},
     "output_type": "execute_result"
    }
   ],
   "source": [
    "a.getHull()"
   ]
  },
  {
   "cell_type": "code",
   "execution_count": 15,
   "metadata": {},
   "outputs": [
    {
     "data": {
      "text/plain": [
       "10"
      ]
     },
     "execution_count": 15,
     "metadata": {},
     "output_type": "execute_result"
    }
   ],
   "source": [
    "a.getLaser()"
   ]
  },
  {
   "cell_type": "code",
   "execution_count": 16,
   "metadata": {},
   "outputs": [
    {
     "data": {
      "text/plain": [
       "10"
      ]
     },
     "execution_count": 16,
     "metadata": {},
     "output_type": "execute_result"
    }
   ],
   "source": [
    "a.getShield()"
   ]
  },
  {
   "cell_type": "code",
   "execution_count": 17,
   "metadata": {},
   "outputs": [
    {
     "data": {
      "text/plain": [
       "'sam'"
      ]
     },
     "execution_count": 17,
     "metadata": {},
     "output_type": "execute_result"
    }
   ],
   "source": [
    "a.getName()"
   ]
  },
  {
   "cell_type": "code",
   "execution_count": null,
   "metadata": {},
   "outputs": [],
   "source": []
  },
  {
   "cell_type": "code",
   "execution_count": null,
   "metadata": {},
   "outputs": [],
   "source": []
  }
 ],
 "metadata": {
  "kernelspec": {
   "display_name": "Python 3",
   "language": "python",
   "name": "python3"
  },
  "language_info": {
   "codemirror_mode": {
    "name": "ipython",
    "version": 3
   },
   "file_extension": ".py",
   "mimetype": "text/x-python",
   "name": "python",
   "nbconvert_exporter": "python",
   "pygments_lexer": "ipython3",
   "version": "3.6.4"
  }
 },
 "nbformat": 4,
 "nbformat_minor": 2
}
