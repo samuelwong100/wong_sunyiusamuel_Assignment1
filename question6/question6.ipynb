{
 "cells": [
  {
   "cell_type": "markdown",
   "metadata": {},
   "source": [
    "Define standard ship class"
   ]
  },
  {
   "cell_type": "code",
   "execution_count": 165,
   "metadata": {},
   "outputs": [],
   "source": [
    "class Ship:\n",
    "    \n",
    "    def __init__(self, name, shield, hull, laser, ship_type = 'standard ship'):\n",
    "        self.name = name\n",
    "        self.shield = shield\n",
    "        self.hull = hull\n",
    "        self.laser = laser\n",
    "        self.alive = True\n",
    "        self.ship_type = ship_type\n",
    "    \n",
    "    def getName(self):\n",
    "        return self.name\n",
    "    \n",
    "    def getShipType(self):\n",
    "        return self.ship_type\n",
    "    \n",
    "    def getShield(self):\n",
    "        return self.shield\n",
    "    \n",
    "    def getHull(self):\n",
    "        return self.hull\n",
    "    \n",
    "    def getLaser(self):\n",
    "        return self.laser\n",
    "    \n",
    "    def isAlive(self):\n",
    "        return self.alive\n",
    "            \n",
    "    def shoot(self, target, blast = None):\n",
    "        # set blast initially to None\n",
    "        # prevent shooting oneself or shooting at dead target\n",
    "        if (target is not self) and (target.isAlive()):\n",
    "            if blast is None: # normal kind of laser\n",
    "                # automatically assume the blast (the amount of energy shot) is equal to the laser strength\n",
    "                blast = self.getLaser()\n",
    "            target.shotAt(blast)\n",
    "        else:\n",
    "            raise Exception('cannot shoot at this target')\n",
    "        \n",
    "    def shotAt(self, blast):\n",
    "        if self.getShield()>0:\n",
    "            self.damageShield(blast)\n",
    "        else:\n",
    "            self.damageHull(blast)\n",
    "            \n",
    "    def damageShield(self, damage):\n",
    "        if self.getShield() - damage > 0:\n",
    "            self.shield = self.getShield() - damage\n",
    "        else:\n",
    "            left_over = damage - self.getShield()\n",
    "            self.shield = 0\n",
    "            self.damageHull(left_over)\n",
    "            \n",
    "    def damageHull(self, damage):\n",
    "        self.hull = self.getHull() - damage/2\n",
    "        if self.hull <= 0:\n",
    "            self.alive = False\n",
    "            \n",
    "    def __str__(self):\n",
    "        if self.isAlive():\n",
    "            return \"Name = {}, Type = {}, Hull = {}, Shield = {}, Laser = {}\".format(\n",
    "                self.getName(), self.getShipType(),self.getHull(), self.getShield(), self.getLaser())\n",
    "        else:\n",
    "            return \"{} is dead\".format(self.getName())"
   ]
  },
  {
   "cell_type": "markdown",
   "metadata": {},
   "source": [
    "Define war ship class"
   ]
  },
  {
   "cell_type": "code",
   "execution_count": 166,
   "metadata": {},
   "outputs": [],
   "source": [
    "import random\n",
    "class WarShip(Ship): # inherit from Ship\n",
    "    \n",
    "    def __init__(self, name, shield, hull, laser):\n",
    "        # change the normal constructor by the ship type only\n",
    "        Ship.__init__(self, name, shield, hull, laser, ship_type = 'war ship')\n",
    "        \n",
    "    def shoot(self, target):\n",
    "        # special attack by missile happens 30% of the time\n",
    "        num = random.random() # generate a random number between 0 and 1\n",
    "        if num < 0.3:\n",
    "            blast = 2*self.getLaser() #special missile has 2 times strength of laser\n",
    "            Ship.shoot(self, target, blast)\n",
    "        else:\n",
    "            # if no special missile attack, then normal shooting\n",
    "            Ship.shoot(self, target)"
   ]
  },
  {
   "cell_type": "markdown",
   "metadata": {},
   "source": [
    "Define speeder class"
   ]
  },
  {
   "cell_type": "code",
   "execution_count": 167,
   "metadata": {},
   "outputs": [],
   "source": [
    "class Speeder(Ship): # inherit from Ship\n",
    "    \n",
    "    def shotAt(self,blast):\n",
    "        num = random.random()\n",
    "        if num > 0.5: # since speeder can dodge, only 50% of the time it gets hit\n",
    "            Ship.shotAt(self,blast)"
   ]
  },
  {
   "cell_type": "markdown",
   "metadata": {},
   "source": [
    "Define method that"
   ]
  },
  {
   "cell_type": "code",
   "execution_count": null,
   "metadata": {},
   "outputs": [],
   "source": []
  },
  {
   "cell_type": "code",
   "execution_count": null,
   "metadata": {},
   "outputs": [],
   "source": []
  },
  {
   "cell_type": "code",
   "execution_count": null,
   "metadata": {},
   "outputs": [],
   "source": []
  },
  {
   "cell_type": "code",
   "execution_count": null,
   "metadata": {},
   "outputs": [],
   "source": []
  },
  {
   "cell_type": "code",
   "execution_count": null,
   "metadata": {},
   "outputs": [],
   "source": [
    "def choose_shooter(ready_to_shoot):\n",
    "    # choose a random ship to be a shooter\n",
    "    num = random.randint(0,len(ready_to_shoot)-1)\n",
    "    shooter = ready_to_shoot[num]\n",
    "    ready_to_shoot.pop(num)\n",
    "    return shooter, ready_to_shoot"
   ]
  },
  {
   "cell_type": "code",
   "execution_count": null,
   "metadata": {},
   "outputs": [],
   "source": [
    "def shooting_event(shooter, surviving_list):\n",
    "    # create a list of possible targets, which is every surviver but shooter\n",
    "    possible_targets = surviving_list.remove(shooter)\n",
    "    # choose a random ship to be target\n",
    "    num = random.randint(0,len(possible_targets)-1)\n",
    "    target = possible_targets(num)\n",
    "    shooter.shoot(target)"
   ]
  },
  {
   "cell_type": "markdown",
   "metadata": {},
   "source": [
    "Main method"
   ]
  },
  {
   "cell_type": "code",
   "execution_count": 173,
   "metadata": {},
   "outputs": [],
   "source": [
    "# create ships\n",
    "Sam = Speeder('Sam',100,50,10) \n",
    "Jeff = WarShip('Jeff',100,50,10)\n",
    "Philip = Ship('Philip',100,50,10)\n",
    "Brenda = Ship('Brenda',100,50,10)\n",
    "Leting = Ship('Leting',100,50,10)\n",
    "# create list of surviving ships\n",
    "surviving_list = [Sam, Jeff, Philip, Brenda, Leting]\n",
    "# intialize time\n",
    "time = 0\n",
    "# at each unit time interval, each ship takes turn shooting at other ship. The order is random\n",
    "# this continues as long as there is more than one surviving ship\n",
    "while len(surviving_list)>1:\n",
    "    # create a list of ship that has not taken turn yet\n",
    "    ready_to_shoot = surviving_list\n",
    "    \n",
    "    \n",
    "    time =  time + 1\n",
    "\n",
    "# exit loop only if one ship is left"
   ]
  },
  {
   "cell_type": "code",
   "execution_count": 186,
   "metadata": {},
   "outputs": [
    {
     "name": "stdout",
     "output_type": "stream",
     "text": [
      "0\n"
     ]
    }
   ],
   "source": [
    "num = random.randint(0,0)\n",
    "print(num)"
   ]
  }
 ],
 "metadata": {
  "kernelspec": {
   "display_name": "Python 3",
   "language": "python",
   "name": "python3"
  },
  "language_info": {
   "codemirror_mode": {
    "name": "ipython",
    "version": 3
   },
   "file_extension": ".py",
   "mimetype": "text/x-python",
   "name": "python",
   "nbconvert_exporter": "python",
   "pygments_lexer": "ipython3",
   "version": "3.6.4"
  }
 },
 "nbformat": 4,
 "nbformat_minor": 2
}
