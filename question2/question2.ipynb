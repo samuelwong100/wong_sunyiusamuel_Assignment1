{
 "cells": [
  {
   "cell_type": "code",
   "execution_count": null,
   "metadata": {},
   "outputs": [],
   "source": [
    "def binomial(n,k):\n",
    "    # initialize result\n",
    "    result = 1\n",
    "    # multiply every number from n to n-k\n",
    "    for i in range(n, n-k, -1):\n",
    "        result = result * i\n",
    "    # divide by k!\n",
    "    for i in range(1,k+1):\n",
    "        result = result/i\n",
    "    # convert result to integer\n",
    "    return int(result)"
   ]
  }
 ],
 "metadata": {
  "kernelspec": {
   "display_name": "Python 3",
   "language": "python",
   "name": "python3"
  },
  "language_info": {
   "codemirror_mode": {
    "name": "ipython",
    "version": 3
   },
   "file_extension": ".py",
   "mimetype": "text/x-python",
   "name": "python",
   "nbconvert_exporter": "python",
   "pygments_lexer": "ipython3",
   "version": "3.6.4"
  }
 },
 "nbformat": 4,
 "nbformat_minor": 2
}
