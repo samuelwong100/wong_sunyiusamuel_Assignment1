{
 "cells": [
  {
   "cell_type": "code",
   "execution_count": 1,
   "metadata": {},
   "outputs": [],
   "source": [
    "def binomial(n,k):\n",
    "    # initialize result\n",
    "    result = 1\n",
    "    # multiply every number from n to n-k\n",
    "    for i in range(n, n-k, -1):\n",
    "        result = result * i\n",
    "    # divide by k!\n",
    "    for i in range(1,k+1):\n",
    "        result = result/i\n",
    "    # convert result to integer\n",
    "    return int(result)"
   ]
  },
  {
   "cell_type": "code",
   "execution_count": 12,
   "metadata": {},
   "outputs": [
    {
     "name": "stdout",
     "output_type": "stream",
     "text": [
      "                     1\n",
      "                    1 1\n",
      "                   1 2 1\n",
      "                  1 3 3 1\n",
      "                 1 4 6 4 1\n",
      "                1 5 10 10 5 1\n",
      "               1 6 15 20 15 6 1\n",
      "              1 7 21 35 35 21 7 1\n",
      "             1 8 28 56 70 56 28 8 1\n",
      "            1 9 36 84 126 126 84 36 9 1\n",
      "           1 10 45 120 210 252 210 120 45 10 1\n",
      "          1 11 55 165 330 462 462 330 165 55 11 1\n",
      "         1 12 66 220 495 792 924 792 495 220 66 12 1\n",
      "        1 13 78 286 715 1287 1716 1716 1287 715 286 78 13 1\n",
      "       1 14 91 364 1001 2002 3003 3432 3003 2002 1001 364 91 14 1\n",
      "      1 15 105 455 1365 3003 5005 6435 6435 5005 3003 1365 455 105 15 1\n",
      "     1 16 120 560 1820 4368 8008 11440 12870 11440 8008 4368 1820 560 120 16 1\n",
      "    1 17 136 680 2380 6188 12376 19448 24310 24310 19448 12376 6188 2380 680 136 17 1\n",
      "   1 18 153 816 3060 8568 18564 31824 43758 48620 43758 31824 18564 8568 3060 816 153 18 1\n",
      "  1 19 171 969 3876 11628 27132 50388 75582 92378 92378 75582 50388 27132 11628 3876 969 171 19 1\n",
      " 1 20 190 1140 4845 15504 38760 77520 125970 167960 184756 167960 125970 77520 38760 15504 4845 1140 190 20 1\n"
     ]
    }
   ],
   "source": [
    "for i in range(21):\n",
    "    # print enough space on the left the make a triangle\n",
    "    # starts off with no space and space increase\n",
    "    for k in range(21-i):\n",
    "        print(' ',end = '')\n",
    "    # print out the binomail coefficient line by line\n",
    "    for j in range(i):\n",
    "        print(binomial(i,j), end = ' ')\n",
    "    # add an extra 1 at the end\n",
    "    print(1, end = '')\n",
    "    print()"
   ]
  },
  {
   "cell_type": "code",
   "execution_count": null,
   "metadata": {},
   "outputs": [],
   "source": []
  }
 ],
 "metadata": {
  "kernelspec": {
   "display_name": "Python 3",
   "language": "python",
   "name": "python3"
  },
  "language_info": {
   "codemirror_mode": {
    "name": "ipython",
    "version": 3
   },
   "file_extension": ".py",
   "mimetype": "text/x-python",
   "name": "python",
   "nbconvert_exporter": "python",
   "pygments_lexer": "ipython3",
   "version": "3.6.4"
  }
 },
 "nbformat": 4,
 "nbformat_minor": 2
}
