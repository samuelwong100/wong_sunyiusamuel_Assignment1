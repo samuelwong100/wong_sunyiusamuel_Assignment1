{
 "cells": [
  {
   "cell_type": "markdown",
   "metadata": {},
   "source": [
    "Define a function that outputs the binomial coefficient"
   ]
  },
  {
   "cell_type": "code",
   "execution_count": 17,
   "metadata": {},
   "outputs": [],
   "source": [
    "def binomial(n,k):\n",
    "    # initialize result\n",
    "    result = 1\n",
    "    # multiply every number from n to n-k\n",
    "    for i in range(n, n-k, -1):\n",
    "        result = result * i\n",
    "    # divide by k!\n",
    "    for i in range(1,k+1):\n",
    "        result = result/i\n",
    "    # convert result to integer\n",
    "    return int(result)"
   ]
  },
  {
   "cell_type": "markdown",
   "metadata": {},
   "source": [
    "Create the first 20 rows of Pascal triangle using the function I just defined"
   ]
  },
  {
   "cell_type": "code",
   "execution_count": 18,
   "metadata": {},
   "outputs": [
    {
     "name": "stdout",
     "output_type": "stream",
     "text": [
      "                     1\n",
      "                    1 1\n",
      "                   1 2 1\n",
      "                  1 3 3 1\n",
      "                 1 4 6 4 1\n",
      "                1 5 10 10 5 1\n",
      "               1 6 15 20 15 6 1\n",
      "              1 7 21 35 35 21 7 1\n",
      "             1 8 28 56 70 56 28 8 1\n",
      "            1 9 36 84 126 126 84 36 9 1\n",
      "           1 10 45 120 210 252 210 120 45 10 1\n",
      "          1 11 55 165 330 462 462 330 165 55 11 1\n",
      "         1 12 66 220 495 792 924 792 495 220 66 12 1\n",
      "        1 13 78 286 715 1287 1716 1716 1287 715 286 78 13 1\n",
      "       1 14 91 364 1001 2002 3003 3432 3003 2002 1001 364 91 14 1\n",
      "      1 15 105 455 1365 3003 5005 6435 6435 5005 3003 1365 455 105 15 1\n",
      "     1 16 120 560 1820 4368 8008 11440 12870 11440 8008 4368 1820 560 120 16 1\n",
      "    1 17 136 680 2380 6188 12376 19448 24310 24310 19448 12376 6188 2380 680 136 17 1\n",
      "   1 18 153 816 3060 8568 18564 31824 43758 48620 43758 31824 18564 8568 3060 816 153 18 1\n",
      "  1 19 171 969 3876 11628 27132 50388 75582 92378 92378 75582 50388 27132 11628 3876 969 171 19 1\n",
      " 1 20 190 1140 4845 15504 38760 77520 125970 167960 184756 167960 125970 77520 38760 15504 4845 1140 190 20 1\n"
     ]
    }
   ],
   "source": [
    "for i in range(21):\n",
    "    # print enough space on the left the make a triangle\n",
    "    # starts off with no space and space increase\n",
    "    for k in range(21-i):\n",
    "        print(' ',end = '')\n",
    "    # print out the binomail coefficient line by line\n",
    "    for j in range(i):\n",
    "        print(binomial(i,j), end = ' ')\n",
    "    # add an extra 1 at the end\n",
    "    print(1, end = '')\n",
    "    print()"
   ]
  },
  {
   "cell_type": "markdown",
   "metadata": {},
   "source": [
    "Define a function that outputs the probability of getting k heads from n flips of coin if the probability of getting head from one coin flip is p"
   ]
  },
  {
   "cell_type": "code",
   "execution_count": 19,
   "metadata": {},
   "outputs": [],
   "source": [
    "def probability_k_times(n,k,p):\n",
    "    return binomial(n,k)*(p**k)*((1-p)**(n-k))"
   ]
  },
  {
   "cell_type": "markdown",
   "metadata": {},
   "source": [
    "Define a function that outputs the probability of getting $\\bf{at\\ least}$ k heads from n flips of coin if the probability of getting head from one coin flip is p"
   ]
  },
  {
   "cell_type": "code",
   "execution_count": 20,
   "metadata": {},
   "outputs": [],
   "source": [
    "def probability_at_least_k_times(n,k,p):\n",
    "    # initialize result\n",
    "    result = 0\n",
    "    i = k\n",
    "    while i <= n:\n",
    "        result = result + probability_k_times(n,i,p)\n",
    "        i = i + 1\n",
    "    return result"
   ]
  },
  {
   "cell_type": "markdown",
   "metadata": {},
   "source": [
    "Baseball example."
   ]
  },
  {
   "cell_type": "code",
   "execution_count": 21,
   "metadata": {
    "scrolled": true
   },
   "outputs": [
    {
     "data": {
      "text/plain": [
       "0.68359375"
      ]
     },
     "execution_count": 21,
     "metadata": {},
     "output_type": "execute_result"
    }
   ],
   "source": [
    "n = 4\n",
    "k = 1\n",
    "p = 0.25\n",
    "probability_at_least_k_times(n,k,p)"
   ]
  },
  {
   "cell_type": "markdown",
   "metadata": {},
   "source": [
    "Simulate the experiment"
   ]
  },
  {
   "cell_type": "code",
   "execution_count": 33,
   "metadata": {},
   "outputs": [
    {
     "name": "stdout",
     "output_type": "stream",
     "text": [
      "When the experiment is repeated 10 times, 0.7 of them are successful.\n",
      "When the experiment is repeated 100 times, 0.64 of them are successful.\n",
      "When the experiment is repeated 100000 times, 0.68598 of them are successful.\n"
     ]
    }
   ],
   "source": [
    "import numpy as np\n",
    "def experiment():\n",
    "    # initialize boolean success\n",
    "    success = False\n",
    "    for j in range(4):\n",
    "        # the player has 4 trials\n",
    "        random_number = np.random.random()\n",
    "        if random_number < 0.25:\n",
    "            # ball is hit with a probability of 0.25\n",
    "            success = True\n",
    "    return success\n",
    "\n",
    "\n",
    "number_of_repeat =  [10,100,100000]\n",
    "for N in number_of_repeat:\n",
    "    # initialize counter\n",
    "    counter = 0\n",
    "    for i in range(N): #repeat the experiment N times\n",
    "        if experiment():\n",
    "            counter = counter + 1\n",
    "    percentage_of_success = counter/N\n",
    "    print(\"When the experiment is repeated {} times, {} of them are successful.\".format(N,percentage_of_success))\n",
    "        "
   ]
  },
  {
   "cell_type": "code",
   "execution_count": null,
   "metadata": {},
   "outputs": [],
   "source": []
  },
  {
   "cell_type": "code",
   "execution_count": null,
   "metadata": {},
   "outputs": [],
   "source": []
  }
 ],
 "metadata": {
  "kernelspec": {
   "display_name": "Python 3",
   "language": "python",
   "name": "python3"
  },
  "language_info": {
   "codemirror_mode": {
    "name": "ipython",
    "version": 3
   },
   "file_extension": ".py",
   "mimetype": "text/x-python",
   "name": "python",
   "nbconvert_exporter": "python",
   "pygments_lexer": "ipython3",
   "version": "3.6.4"
  }
 },
 "nbformat": 4,
 "nbformat_minor": 2
}
