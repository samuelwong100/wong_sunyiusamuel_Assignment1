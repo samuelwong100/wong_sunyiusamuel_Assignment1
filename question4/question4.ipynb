{
 "cells": [
  {
   "cell_type": "markdown",
   "metadata": {},
   "source": [
    "Create an array of complex number where both real and imaginary range from -2 to 2, exclusive"
   ]
  },
  {
   "cell_type": "code",
   "execution_count": 1,
   "metadata": {},
   "outputs": [],
   "source": [
    "import numpy as np\n",
    "import itertools\n",
    "# define scale size of steps\n",
    "N = 2\n",
    "# define steps\n",
    "dx =  10**(-N)\n",
    "dy = 10**(-N)\n",
    "x = np.arange(-2+dx,2,dx)\n",
    "y = np.arange(-2+dy,2,dy)\n",
    "# get cartesian product of the two sets\n",
    "cartesian_product = itertools.product(x,y)\n",
    "# convert the cartesian product to a list\n",
    "components_list = [item for item in cartesian_product]\n",
    "#initialize our complex domain\n",
    "complex_domain = np.zeros(len(components_list),dtype = \"complex\")\n",
    "# term by term, convert each pair of number in the cartesian product into a single complex number\n",
    "i = 0\n",
    "for item in components_list:\n",
    "    complex_domain[i] = np.complex(item[0],item[1])\n",
    "    i = i + 1"
   ]
  },
  {
   "cell_type": "markdown",
   "metadata": {},
   "source": [
    "Define an iterative complex function"
   ]
  },
  {
   "cell_type": "code",
   "execution_count": 2,
   "metadata": {},
   "outputs": [],
   "source": [
    "def get_next_z(z_i,c):\n",
    "    return z_i**2 + c"
   ]
  },
  {
   "cell_type": "markdown",
   "metadata": {},
   "source": [
    "Define a function that iterate through the process i times and check for whether it diverges and where it diverges"
   ]
  },
  {
   "cell_type": "code",
   "execution_count": 3,
   "metadata": {},
   "outputs": [],
   "source": [
    "def iterate_to_z_i(i,c):\n",
    "    #initialize divergence and divergence point\n",
    "    diverge = False\n",
    "    div_point = None\n",
    "    z = np.zeros(i,dtype = complex)\n",
    "    z[0] = 0\n",
    "    for j in range(i-1):\n",
    "        z[j+1] = get_next_z(z[j], c)\n",
    "        if np.isnan(z[j+1]): #check whether it is \"not a number\", this means it diverges\n",
    "            diverge = True\n",
    "            div_point = j+1\n",
    "            break\n",
    "    return z, diverge, div_point"
   ]
  },
  {
   "cell_type": "markdown",
   "metadata": {},
   "source": [
    "For each number, c, in the complex domain, go through the iteration formula 30 times. This is enough to see whether the sequence blows through to infinity because after 30 times, the computer cannot handle the number if they diverge."
   ]
  },
  {
   "cell_type": "code",
   "execution_count": 4,
   "metadata": {},
   "outputs": [
    {
     "name": "stderr",
     "output_type": "stream",
     "text": [
      "c:\\users\\user\\anaconda3\\lib\\site-packages\\ipykernel_launcher.py:2: RuntimeWarning: overflow encountered in cdouble_scalars\n",
      "  \n",
      "c:\\users\\user\\anaconda3\\lib\\site-packages\\ipykernel_launcher.py:2: RuntimeWarning: invalid value encountered in cdouble_scalars\n",
      "  \n"
     ]
    }
   ],
   "source": [
    "#create a dictionary that stores the color of a given point in the complex domain\n",
    "color_dict = {}\n",
    "\n",
    "# go through the sequence for every number in the complex domain\n",
    "for c in complex_domain:\n",
    "    z, diverge, div_point = iterate_to_z_i(30,c)\n",
    "    if diverge: \n",
    "        color_dict[c] = div_point\n",
    "    else:\n",
    "        color_dict[c] = 0"
   ]
  },
  {
   "cell_type": "markdown",
   "metadata": {},
   "source": [
    "Plot the result in an image"
   ]
  },
  {
   "cell_type": "code",
   "execution_count": 5,
   "metadata": {},
   "outputs": [
    {
     "name": "stdout",
     "output_type": "stream",
     "text": [
      "Populating the interactive namespace from numpy and matplotlib\n"
     ]
    },
    {
     "data": {
      "text/plain": [
       "<matplotlib.colorbar.Colorbar at 0xa928a58>"
      ]
     },
     "execution_count": 5,
     "metadata": {},
     "output_type": "execute_result"
    },
    {
     "data": {
      "image/png": "[encoded data removed]",
      "text/plain": [
       "<matplotlib.figure.Figure at 0x5eacc18>"
      ]
     },
     "metadata": {},
     "output_type": "display_data"
    }
   ],
   "source": [
    "%pylab inline\n",
    "import matplotlib.pyplot as plt\n",
    "\n",
    "# create a 2 dimensional array encoding the 2 dimensional graph\n",
    "xv, yv =  np.meshgrid(x,y)\n",
    "\n",
    "# define a function that gives the color value of the (real, imaginary) coordinate\n",
    "def complex_value(x,y):\n",
    "    z = np.complex(x,y)\n",
    "    return z\n",
    "\n",
    "def color(z):\n",
    "    return color_dict[z]\n",
    "\n",
    "# initialize final data\n",
    "data = np.zeros((np.size(x), np.size(y)))\n",
    "for i in range(np.size(x)):\n",
    "    for j in range(np.size(y)):\n",
    "        # for each \"pixel\" in the final graph, set the color\n",
    "        data[i][j] = color(complex_value(xv[i][j],yv[i][j]))\n",
    "#display the data, extent adjusts the scale to the correct -2 to 2\n",
    "plt.imshow(data, extent = [-2,2,-2,2])\n",
    "plt.xlabel('real')\n",
    "plt.ylabel('imaginary')\n",
    "plt.colorbar()"
   ]
  },
  {
   "cell_type": "code",
   "execution_count": null,
   "metadata": {},
   "outputs": [],
   "source": [
    "\n",
    "    "
   ]
  },
  {
   "cell_type": "code",
   "execution_count": null,
   "metadata": {},
   "outputs": [],
   "source": []
  }
 ],
 "metadata": {
  "kernelspec": {
   "display_name": "Python 3",
   "language": "python",
   "name": "python3"
  },
  "language_info": {
   "codemirror_mode": {
    "name": "ipython",
    "version": 3
   },
   "file_extension": ".py",
   "mimetype": "text/x-python",
   "name": "python",
   "nbconvert_exporter": "python",
   "pygments_lexer": "ipython3",
   "version": "3.6.4"
  }
 },
 "nbformat": 4,
 "nbformat_minor": 2
}
