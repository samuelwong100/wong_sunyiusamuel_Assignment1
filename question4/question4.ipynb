{
 "cells": [
  {
   "cell_type": "markdown",
   "metadata": {},
   "source": [
    "Create an array of complex number where both real and imaginary range from -2 to 2, exclusive"
   ]
  },
  {
   "cell_type": "code",
   "execution_count": 129,
   "metadata": {},
   "outputs": [],
   "source": [
    "import numpy as n\n",
    "import itertools\n",
    "# define steps\n",
    "dx =  10**(-2)\n",
    "dy = 10**(-2)\n",
    "x = np.arange(-2+dx,2,dx)\n",
    "y = np.arange(-2+dy,2,dy)\n",
    "# get cartesian product of the two sets\n",
    "cartesian_product = itertools.product(x,y)\n",
    "# convert the cartesian product to a list\n",
    "components_list = [item for item in cartesian_product]\n",
    "#initialize our complex domain\n",
    "complex_domain = np.zeros(len(components_list),dtype = \"complex\")\n",
    "# term by term, convert each pair of number in the cartesian product into a single complex number\n",
    "i = 0\n",
    "for item in components_list:\n",
    "    complex_domain[i] = np.complex(item[0],item[1])\n",
    "    i = i + 1"
   ]
  },
  {
   "cell_type": "markdown",
   "metadata": {},
   "source": [
    "Define an iterative complex function"
   ]
  },
  {
   "cell_type": "code",
   "execution_count": 88,
   "metadata": {},
   "outputs": [],
   "source": [
    "def get_next_z(z_i,c):\n",
    "    return z_i**2 + c"
   ]
  },
  {
   "cell_type": "markdown",
   "metadata": {},
   "source": [
    "Define a function that iterate through the process i times"
   ]
  },
  {
   "cell_type": "code",
   "execution_count": 89,
   "metadata": {},
   "outputs": [],
   "source": [
    "def iterate_to_z_i(i,c):\n",
    "    z = np.zeros(i,dtype = complex)\n",
    "    z[0] = 0\n",
    "    for j in range(i-1):\n",
    "        z[j+1] = get_next_z(z[j], c)\n",
    "    return z"
   ]
  },
  {
   "cell_type": "markdown",
   "metadata": {},
   "source": [
    "for c in complex_domain:\n",
    "    x = iterate_to_z_i(30,c)\n",
    "    if "
   ]
  },
  {
   "cell_type": "code",
   "execution_count": null,
   "metadata": {},
   "outputs": [],
   "source": []
  },
  {
   "cell_type": "code",
   "execution_count": null,
   "metadata": {},
   "outputs": [],
   "source": []
  }
 ],
 "metadata": {
  "kernelspec": {
   "display_name": "Python 3",
   "language": "python",
   "name": "python3"
  },
  "language_info": {
   "codemirror_mode": {
    "name": "ipython",
    "version": 3
   },
   "file_extension": ".py",
   "mimetype": "text/x-python",
   "name": "python",
   "nbconvert_exporter": "python",
   "pygments_lexer": "ipython3",
   "version": "3.6.4"
  }
 },
 "nbformat": 4,
 "nbformat_minor": 2
}
