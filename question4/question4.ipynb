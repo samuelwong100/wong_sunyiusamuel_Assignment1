{
 "cells": [
  {
   "cell_type": "markdown",
   "metadata": {},
   "source": [
    "Create an array of complex number where both real and imaginary range from -2 to 2, exclusive"
   ]
  },
  {
   "cell_type": "code",
   "execution_count": 200,
   "metadata": {},
   "outputs": [],
   "source": [
    "import numpy as np\n",
    "import itertools\n",
    "# define steps\n",
    "dx =  10**(-1)\n",
    "dy = 10**(-1)\n",
    "x = np.arange(-2+dx,2,dx)\n",
    "y = np.arange(-2+dy,2,dy)\n",
    "# get cartesian product of the two sets\n",
    "cartesian_product = itertools.product(x,y)\n",
    "# convert the cartesian product to a list\n",
    "components_list = [item for item in cartesian_product]\n",
    "#initialize our complex domain\n",
    "complex_domain = np.zeros(len(components_list),dtype = \"complex\")\n",
    "# term by term, convert each pair of number in the cartesian product into a single complex number\n",
    "i = 0\n",
    "for item in components_list:\n",
    "    complex_domain[i] = np.complex(item[0],item[1])\n",
    "    i = i + 1"
   ]
  },
  {
   "cell_type": "markdown",
   "metadata": {},
   "source": [
    "Define an iterative complex function"
   ]
  },
  {
   "cell_type": "code",
   "execution_count": 201,
   "metadata": {},
   "outputs": [],
   "source": [
    "def get_next_z(z_i,c):\n",
    "    return z_i**2 + c"
   ]
  },
  {
   "cell_type": "markdown",
   "metadata": {},
   "source": [
    "Define a function that iterate through the process i times and check for whether it diverges and where it diverges"
   ]
  },
  {
   "cell_type": "code",
   "execution_count": 202,
   "metadata": {},
   "outputs": [],
   "source": [
    "def iterate_to_z_i(i,c):\n",
    "    #initialize divergence and divergence point\n",
    "    diverge = False\n",
    "    div_point = None\n",
    "    z = np.zeros(i,dtype = complex)\n",
    "    z[0] = 0\n",
    "    for j in range(i-1):\n",
    "        z[j+1] = get_next_z(z[j], c)\n",
    "        if np.isnan(z[j+1]): #check whether it is \"not a number\", this means it diverges\n",
    "            diverge = True\n",
    "            div_point = j+1\n",
    "            break\n",
    "    return z, diverge, div_point"
   ]
  },
  {
   "cell_type": "markdown",
   "metadata": {},
   "source": [
    "For each number, c, in the complex domain, go through the iteration formula 30 times. This is enough to see whether the sequence blows through to infinity because after 30 times, the computer cannot handle the number if they diverge."
   ]
  },
  {
   "cell_type": "code",
   "execution_count": 203,
   "metadata": {},
   "outputs": [
    {
     "name": "stderr",
     "output_type": "stream",
     "text": [
      "c:\\users\\user\\anaconda3\\lib\\site-packages\\ipykernel_launcher.py:2: RuntimeWarning: overflow encountered in cdouble_scalars\n",
      "  \n",
      "c:\\users\\user\\anaconda3\\lib\\site-packages\\ipykernel_launcher.py:2: RuntimeWarning: invalid value encountered in cdouble_scalars\n",
      "  \n"
     ]
    }
   ],
   "source": [
    "#create a dictionary that stores the color of a given point in the complex domain\n",
    "color_dict = {}\n",
    "\n",
    "# go through the sequence for every number in the complex domain\n",
    "for c in complex_domain:\n",
    "    z, diverge, div_point = iterate_to_z_i(30,c)\n",
    "    if diverge: \n",
    "        color_dict[c] = div_point\n",
    "    else:\n",
    "        color_dict[c] = 0"
   ]
  },
  {
   "cell_type": "code",
   "execution_count": 211,
   "metadata": {},
   "outputs": [
    {
     "name": "stdout",
     "output_type": "stream",
     "text": [
      "Populating the interactive namespace from numpy and matplotlib\n"
     ]
    },
    {
     "ename": "TypeError",
     "evalue": "complex() first argument must be a string or a number, not 'tuple'",
     "output_type": "error",
     "traceback": [
      "\u001b[1;31m---------------------------------------------------------------------------\u001b[0m",
      "\u001b[1;31mTypeError\u001b[0m                                 Traceback (most recent call last)",
      "\u001b[1;32m<ipython-input-211-f372bd044b53>\u001b[0m in \u001b[0;36m<module>\u001b[1;34m()\u001b[0m\n\u001b[0;32m      6\u001b[0m     \u001b[1;32mreturn\u001b[0m \u001b[0mcolor_dict\u001b[0m\u001b[1;33m(\u001b[0m\u001b[0mz\u001b[0m\u001b[1;33m)\u001b[0m\u001b[1;33m\u001b[0m\u001b[0m\n\u001b[0;32m      7\u001b[0m \u001b[1;33m\u001b[0m\u001b[0m\n\u001b[1;32m----> 8\u001b[1;33m \u001b[0mplt\u001b[0m\u001b[1;33m.\u001b[0m\u001b[0mimshow\u001b[0m\u001b[1;33m(\u001b[0m\u001b[0mg\u001b[0m\u001b[1;33m(\u001b[0m\u001b[0mx\u001b[0m\u001b[1;33m,\u001b[0m\u001b[0my\u001b[0m\u001b[1;33m)\u001b[0m\u001b[1;33m)\u001b[0m\u001b[1;33m\u001b[0m\u001b[0m\n\u001b[0m",
      "\u001b[1;32m<ipython-input-211-f372bd044b53>\u001b[0m in \u001b[0;36mg\u001b[1;34m(x, y)\u001b[0m\n\u001b[0;32m      3\u001b[0m \u001b[1;33m\u001b[0m\u001b[0m\n\u001b[0;32m      4\u001b[0m \u001b[1;32mdef\u001b[0m \u001b[0mg\u001b[0m\u001b[1;33m(\u001b[0m\u001b[0mx\u001b[0m\u001b[1;33m,\u001b[0m\u001b[0my\u001b[0m\u001b[1;33m)\u001b[0m\u001b[1;33m:\u001b[0m\u001b[1;33m\u001b[0m\u001b[0m\n\u001b[1;32m----> 5\u001b[1;33m     \u001b[0mz\u001b[0m \u001b[1;33m=\u001b[0m \u001b[0mnp\u001b[0m\u001b[1;33m.\u001b[0m\u001b[0mcomplex\u001b[0m\u001b[1;33m(\u001b[0m\u001b[1;33m(\u001b[0m\u001b[0mx\u001b[0m\u001b[1;33m,\u001b[0m\u001b[0my\u001b[0m\u001b[1;33m)\u001b[0m\u001b[1;33m)\u001b[0m\u001b[1;33m\u001b[0m\u001b[0m\n\u001b[0m\u001b[0;32m      6\u001b[0m     \u001b[1;32mreturn\u001b[0m \u001b[0mcolor_dict\u001b[0m\u001b[1;33m(\u001b[0m\u001b[0mz\u001b[0m\u001b[1;33m)\u001b[0m\u001b[1;33m\u001b[0m\u001b[0m\n\u001b[0;32m      7\u001b[0m \u001b[1;33m\u001b[0m\u001b[0m\n",
      "\u001b[1;31mTypeError\u001b[0m: complex() first argument must be a string or a number, not 'tuple'"
     ]
    }
   ],
   "source": [
    "%pylab inline\n",
    "import matplotlib.pyplot as plt\n",
    "\n",
    "def g(x,y):\n",
    "    return color_dict(z)\n"
   ]
  },
  {
   "cell_type": "code",
   "execution_count": 204,
   "metadata": {},
   "outputs": [
    {
     "data": {
      "text/plain": [
       "'xv, yv = np.meshgrid(x,y)\\nprint(xv)\\nprint(yv)\\nplt.figure(1)\\nplt.imshow(xv)\\nplt.colorbar()\\nplt.figure(2)\\nplt.imshow(yv)\\nplt.colorbar()'"
      ]
     },
     "execution_count": 204,
     "metadata": {},
     "output_type": "execute_result"
    }
   ],
   "source": [
    "\n",
    "    "
   ]
  },
  {
   "cell_type": "code",
   "execution_count": null,
   "metadata": {},
   "outputs": [],
   "source": []
  }
 ],
 "metadata": {
  "kernelspec": {
   "display_name": "Python 3",
   "language": "python",
   "name": "python3"
  },
  "language_info": {
   "codemirror_mode": {
    "name": "ipython",
    "version": 3
   },
   "file_extension": ".py",
   "mimetype": "text/x-python",
   "name": "python",
   "nbconvert_exporter": "python",
   "pygments_lexer": "ipython3",
   "version": "3.6.4"
  }
 },
 "nbformat": 4,
 "nbformat_minor": 2
}
